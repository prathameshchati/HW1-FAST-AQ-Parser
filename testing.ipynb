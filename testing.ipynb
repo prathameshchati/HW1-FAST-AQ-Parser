{
 "cells": [
  {
   "cell_type": "code",
   "execution_count": 1,
   "id": "e3e3db4b-1712-4e45-8f61-eaca88e1294e",
   "metadata": {},
   "outputs": [],
   "source": [
    "from seqparser import (\n",
    "        FastaParser,\n",
    "        FastqParser,\n",
    "        transcribe,\n",
    "        reverse_transcribe)"
   ]
  },
  {
   "cell_type": "code",
   "execution_count": 2,
   "id": "40930f22-6d79-4fe2-a6f6-61261552d2f8",
   "metadata": {},
   "outputs": [],
   "source": [
    "seq=\"ACTGAACCC\""
   ]
  },
  {
   "cell_type": "code",
   "execution_count": 3,
   "id": "e75301ff-d695-4e5d-85b4-948a18ac5ec1",
   "metadata": {},
   "outputs": [
    {
     "data": {
      "text/plain": [
       "'UCACUUCCC'"
      ]
     },
     "execution_count": 3,
     "metadata": {},
     "output_type": "execute_result"
    }
   ],
   "source": [
    "transcribe(seq)"
   ]
  },
  {
   "cell_type": "code",
   "execution_count": null,
   "id": "d74a2516-ba63-494b-9c52-b9a318b544b9",
   "metadata": {},
   "outputs": [],
   "source": [
    "U G A C U U G G G"
   ]
  }
 ],
 "metadata": {
  "kernelspec": {
   "display_name": "Python 3 (ipykernel)",
   "language": "python",
   "name": "python3"
  },
  "language_info": {
   "codemirror_mode": {
    "name": "ipython",
    "version": 3
   },
   "file_extension": ".py",
   "mimetype": "text/x-python",
   "name": "python",
   "nbconvert_exporter": "python",
   "pygments_lexer": "ipython3",
   "version": "3.11.2"
  }
 },
 "nbformat": 4,
 "nbformat_minor": 5
}
