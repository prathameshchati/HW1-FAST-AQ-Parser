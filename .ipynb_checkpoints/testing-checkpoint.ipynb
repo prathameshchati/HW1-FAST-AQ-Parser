{
 "cells": [
  {
   "cell_type": "code",
   "execution_count": 7,
   "id": "e3e3db4b-1712-4e45-8f61-eaca88e1294e",
   "metadata": {},
   "outputs": [],
   "source": [
    "from seqparser import (\n",
    "        FastaParser,\n",
    "        FastqParser,\n",
    "        transcribe,\n",
    "        reverse_transcribe)"
   ]
  },
  {
   "cell_type": "code",
   "execution_count": 8,
   "id": "40930f22-6d79-4fe2-a6f6-61261552d2f8",
   "metadata": {},
   "outputs": [],
   "source": [
    "seq=\"ACTGAACCC\""
   ]
  },
  {
   "cell_type": "code",
   "execution_count": 9,
   "id": "e75301ff-d695-4e5d-85b4-948a18ac5ec1",
   "metadata": {},
   "outputs": [
    {
     "data": {
      "text/plain": [
       "'UGACUUGGG'"
      ]
     },
     "execution_count": 9,
     "metadata": {},
     "output_type": "execute_result"
    }
   ],
   "source": [
    "transcribe(seq)"
   ]
  },
  {
   "cell_type": "code",
   "execution_count": 10,
   "id": "d245f180-c462-48da-b159-4eb510831f79",
   "metadata": {},
   "outputs": [
    {
     "data": {
      "text/plain": [
       "'GGGUUCAGU'"
      ]
     },
     "execution_count": 10,
     "metadata": {},
     "output_type": "execute_result"
    }
   ],
   "source": [
    "reverse_transcribe(seq)"
   ]
  },
  {
   "cell_type": "code",
   "execution_count": 32,
   "id": "a70ab0ed-d016-416d-8dbf-29b7261d1769",
   "metadata": {},
   "outputs": [],
   "source": [
    "# fa=\"data/test.fa\"\n",
    "fa=\"tests/bad.fa\"\n",
    "fa_out=FastaParser(filename=fa)\n",
    "# FastaParser(fa)._get_record(fa)\n",
    "fa_out._sequences"
   ]
  },
  {
   "cell_type": "code",
   "execution_count": 33,
   "id": "e96ce488-00dd-401f-9658-62f2854c3d23",
   "metadata": {},
   "outputs": [],
   "source": [
    "# print(fa_out._sequences)"
   ]
  },
  {
   "cell_type": "code",
   "execution_count": 34,
   "id": "207740f2-fa6a-4bf9-a8e0-0b579d4b45f3",
   "metadata": {},
   "outputs": [],
   "source": []
  },
  {
   "cell_type": "code",
   "execution_count": 50,
   "id": "ef4a8bf2-fd9a-4c0b-9c9a-3b94d8c0b470",
   "metadata": {},
   "outputs": [
    {
     "ename": "ValueError",
     "evalue": "File (tests/bad.fa) had 0 lines.",
     "output_type": "error",
     "traceback": [
      "\u001b[1;31m---------------------------------------------------------------------------\u001b[0m",
      "\u001b[1;31mValueError\u001b[0m                                Traceback (most recent call last)",
      "\u001b[1;32m~\\AppData\\Local\\Temp/ipykernel_87380/1485418657.py\u001b[0m in \u001b[0;36m<module>\u001b[1;34m\u001b[0m\n\u001b[0;32m      2\u001b[0m \u001b[1;31m# fa=\"data/test.fa\"\u001b[0m\u001b[1;33m\u001b[0m\u001b[1;33m\u001b[0m\u001b[0m\n\u001b[0;32m      3\u001b[0m \u001b[1;33m\u001b[0m\u001b[0m\n\u001b[1;32m----> 4\u001b[1;33m \u001b[0mprint\u001b[0m\u001b[1;33m(\u001b[0m\u001b[0mlist\u001b[0m\u001b[1;33m(\u001b[0m\u001b[0mFastaParser\u001b[0m\u001b[1;33m(\u001b[0m\u001b[0mfa\u001b[0m\u001b[1;33m)\u001b[0m\u001b[1;33m)\u001b[0m\u001b[1;33m)\u001b[0m\u001b[1;33m\u001b[0m\u001b[1;33m\u001b[0m\u001b[0m\n\u001b[0m",
      "\u001b[1;32m~\\HW1-FAST-AQ-Parser\\seqparser\\parse.py\u001b[0m in \u001b[0;36m__iter__\u001b[1;34m(self)\u001b[0m\n\u001b[0;32m    107\u001b[0m \u001b[1;33m\u001b[0m\u001b[0m\n\u001b[0;32m    108\u001b[0m             \u001b[1;32mif\u001b[0m \u001b[0mnseq\u001b[0m \u001b[1;33m==\u001b[0m \u001b[1;36m0\u001b[0m\u001b[1;33m:\u001b[0m\u001b[1;33m\u001b[0m\u001b[1;33m\u001b[0m\u001b[0m\n\u001b[1;32m--> 109\u001b[1;33m                 \u001b[1;32mraise\u001b[0m \u001b[0mValueError\u001b[0m\u001b[1;33m(\u001b[0m\u001b[1;34mf\"File ({self.filename}) had 0 lines.\"\u001b[0m\u001b[1;33m)\u001b[0m\u001b[1;33m\u001b[0m\u001b[1;33m\u001b[0m\u001b[0m\n\u001b[0m\u001b[0;32m    110\u001b[0m \u001b[1;33m\u001b[0m\u001b[0m\n\u001b[0;32m    111\u001b[0m         \u001b[1;31m# another way to do this with the original construction:\u001b[0m\u001b[1;33m\u001b[0m\u001b[1;33m\u001b[0m\u001b[0m\n",
      "\u001b[1;31mValueError\u001b[0m: File (tests/bad.fa) had 0 lines."
     ]
    }
   ],
   "source": [
    "fa=\"tests/bad.fa\"\n",
    "# fa=\"data/test.fa\"\n",
    "print(list(FastaParser(fa)))"
   ]
  },
  {
   "cell_type": "code",
   "execution_count": 63,
   "id": "3a693a83",
   "metadata": {},
   "outputs": [],
   "source": [
    "import pytest"
   ]
  },
  {
   "cell_type": "code",
   "execution_count": 66,
   "id": "0f2d4356",
   "metadata": {},
   "outputs": [],
   "source": [
    "fa=\"tests/bad.fa\"\n",
    "with pytest.raises(ValueError) as out:  \n",
    "    list(FastaParser(fa))\n",
    "assert str(out.value) == \"File (tests/bad.fa) had 0 lines.\"  "
   ]
  },
  {
   "cell_type": "code",
   "execution_count": 65,
   "id": "bd1ab2a2",
   "metadata": {},
   "outputs": [
    {
     "data": {
      "text/plain": [
       "<seqparser.parse.FastaParser at 0x2b404bdca30>"
      ]
     },
     "execution_count": 65,
     "metadata": {},
     "output_type": "execute_result"
    }
   ],
   "source": [
    "# type(list(FastaParser(fa)))\n",
    "FastaParser(fa)"
   ]
  },
  {
   "cell_type": "code",
   "execution_count": 45,
   "id": "3d7ea5f9-b14c-40e4-8c22-6d0440596730",
   "metadata": {},
   "outputs": [],
   "source": [
    "testdata = open(\"tests/bad.fa\").read()"
   ]
  },
  {
   "cell_type": "code",
   "execution_count": 46,
   "id": "d49c031c-8549-4975-ba47-f56c984a2bbc",
   "metadata": {},
   "outputs": [
    {
     "data": {
      "text/plain": [
       "'>seq1\\n>seq2'"
      ]
     },
     "execution_count": 46,
     "metadata": {},
     "output_type": "execute_result"
    }
   ],
   "source": [
    "testdata"
   ]
  },
  {
   "cell_type": "code",
   "execution_count": null,
   "id": "2f64d945",
   "metadata": {},
   "outputs": [],
   "source": []
  }
 ],
 "metadata": {
  "kernelspec": {
   "display_name": "Python 3 (ipykernel)",
   "language": "python",
   "name": "python3"
  },
  "language_info": {
   "codemirror_mode": {
    "name": "ipython",
    "version": 3
   },
   "file_extension": ".py",
   "mimetype": "text/x-python",
   "name": "python",
   "nbconvert_exporter": "python",
   "pygments_lexer": "ipython3",
   "version": "3.9.7"
  }
 },
 "nbformat": 4,
 "nbformat_minor": 5
}
