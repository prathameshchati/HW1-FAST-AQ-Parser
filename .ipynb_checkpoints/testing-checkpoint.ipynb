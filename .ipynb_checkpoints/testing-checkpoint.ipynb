{
 "cells": [
  {
   "cell_type": "code",
   "execution_count": 2,
   "id": "e3e3db4b-1712-4e45-8f61-eaca88e1294e",
   "metadata": {},
   "outputs": [],
   "source": [
    "from seqparser import (\n",
    "        FastaParser,\n",
    "        FastqParser,\n",
    "        transcribe,\n",
    "        reverse_transcribe)"
   ]
  },
  {
   "cell_type": "code",
   "execution_count": 3,
   "id": "40930f22-6d79-4fe2-a6f6-61261552d2f8",
   "metadata": {},
   "outputs": [],
   "source": [
    "seq=\"ACTGAACCC\""
   ]
  },
  {
   "cell_type": "code",
   "execution_count": 4,
   "id": "e75301ff-d695-4e5d-85b4-948a18ac5ec1",
   "metadata": {},
   "outputs": [
    {
     "data": {
      "text/plain": [
       "'UGACUUGGG'"
      ]
     },
     "execution_count": 4,
     "metadata": {},
     "output_type": "execute_result"
    }
   ],
   "source": [
    "transcribe(seq)"
   ]
  },
  {
   "cell_type": "code",
   "execution_count": 5,
   "id": "d245f180-c462-48da-b159-4eb510831f79",
   "metadata": {},
   "outputs": [
    {
     "data": {
      "text/plain": [
       "'GGGUUCAGU'"
      ]
     },
     "execution_count": 5,
     "metadata": {},
     "output_type": "execute_result"
    }
   ],
   "source": [
    "reverse_transcribe(seq)"
   ]
  },
  {
   "cell_type": "code",
   "execution_count": 22,
   "id": "a70ab0ed-d016-416d-8dbf-29b7261d1769",
   "metadata": {},
   "outputs": [
    {
     "data": {
      "text/plain": [
       "<seqparser.parse.FastaParser at 0x7fcdf5588950>"
      ]
     },
     "execution_count": 22,
     "metadata": {},
     "output_type": "execute_result"
    }
   ],
   "source": [
    "fa=\"data/test.fa\"\n",
    "# fa=\"tests/bad.fa\"\n",
    "FastaParser(fa)"
   ]
  },
  {
   "cell_type": "code",
   "execution_count": 23,
   "id": "e96ce488-00dd-401f-9658-62f2854c3d23",
   "metadata": {},
   "outputs": [],
   "source": [
    "fa_out._sequences"
   ]
  },
  {
   "cell_type": "code",
   "execution_count": null,
   "id": "207740f2-fa6a-4bf9-a8e0-0b579d4b45f3",
   "metadata": {},
   "outputs": [],
   "source": []
  }
 ],
 "metadata": {
  "kernelspec": {
   "display_name": "Python 3 (ipykernel)",
   "language": "python",
   "name": "python3"
  },
  "language_info": {
   "codemirror_mode": {
    "name": "ipython",
    "version": 3
   },
   "file_extension": ".py",
   "mimetype": "text/x-python",
   "name": "python",
   "nbconvert_exporter": "python",
   "pygments_lexer": "ipython3",
   "version": "3.11.2"
  }
 },
 "nbformat": 4,
 "nbformat_minor": 5
}
